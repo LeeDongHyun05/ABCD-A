{
  "nbformat": 4,
  "nbformat_minor": 0,
  "metadata": {
    "colab": {
      "provenance": [],
      "authorship_tag": "ABX9TyOsAg0eH/df257si24kmqPe",
      "include_colab_link": true
    },
    "kernelspec": {
      "name": "python3",
      "display_name": "Python 3"
    },
    "language_info": {
      "name": "python"
    }
  },
  "cells": [
    {
      "cell_type": "markdown",
      "metadata": {
        "id": "view-in-github",
        "colab_type": "text"
      },
      "source": [
        "<a href=\"https://colab.research.google.com/github/LeeDongHyun05/ABCD-A/blob/main/ABCD_A.ipynb\" target=\"_parent\"><img src=\"https://colab.research.google.com/assets/colab-badge.svg\" alt=\"Open In Colab\"/></a>"
      ]
    },
    {
      "cell_type": "code",
      "source": [
        "# Quiz 1\n",
        "\n",
        "a = '★'\n",
        "\n",
        "for i in range(3):\n",
        "  for j in range(1):\n",
        "    print(a * 4)"
      ],
      "metadata": {
        "colab": {
          "base_uri": "https://localhost:8080/"
        },
        "id": "5i6qKgLHrTnp",
        "outputId": "833505d4-f9f1-48b6-8ace-74d10fe8c1f3"
      },
      "execution_count": 7,
      "outputs": [
        {
          "output_type": "stream",
          "name": "stdout",
          "text": [
            "★★★★\n",
            "★★★★\n",
            "★★★★\n"
          ]
        }
      ]
    },
    {
      "cell_type": "code",
      "source": [
        "# Quiz 2\n",
        "\n",
        "a = '★'\n",
        "\n",
        "for i in range(3):\n",
        "  print(a * 4)"
      ],
      "metadata": {
        "colab": {
          "base_uri": "https://localhost:8080/"
        },
        "id": "OJtSsg6prTsY",
        "outputId": "c2ccfea0-9776-4904-a709-54cf4bd3406a"
      },
      "execution_count": 8,
      "outputs": [
        {
          "output_type": "stream",
          "name": "stdout",
          "text": [
            "★★★★\n",
            "★★★★\n",
            "★★★★\n"
          ]
        }
      ]
    },
    {
      "cell_type": "code",
      "source": [
        "# Quiz 3\n",
        "\n",
        "horizontal_stars = '★★★'\n",
        "vertical_repeats = '★★★★'\n",
        "\n",
        "for i in vertical_repeats:\n",
        "  print(horizontal_stars)"
      ],
      "metadata": {
        "colab": {
          "base_uri": "https://localhost:8080/"
        },
        "id": "zqNC9TzRrT0J",
        "outputId": "77a5dc2f-da6c-4473-ff62-e292bc7b341b"
      },
      "execution_count": 9,
      "outputs": [
        {
          "output_type": "stream",
          "name": "stdout",
          "text": [
            "★★★\n",
            "★★★\n",
            "★★★\n",
            "★★★\n"
          ]
        }
      ]
    },
    {
      "cell_type": "code",
      "source": [
        "#Quiz 4\n",
        "\n",
        "star = '*'\n",
        "\n",
        "horizental_stars = star * 3\n",
        "\n",
        "for i in range(4):\n",
        "  print(horizental_stars)"
      ],
      "metadata": {
        "colab": {
          "base_uri": "https://localhost:8080/"
        },
        "id": "yk2LyOvrrUBw",
        "outputId": "a0b09e5b-da14-4c15-955d-e0e7d2006635"
      },
      "execution_count": 10,
      "outputs": [
        {
          "output_type": "stream",
          "name": "stdout",
          "text": [
            "***\n",
            "***\n",
            "***\n",
            "***\n"
          ]
        }
      ]
    },
    {
      "cell_type": "code",
      "source": [
        "#Quiz 5 - 1\n",
        "import math\n",
        "\n",
        "R = int(input(\"반지름을 설정해주세요 \"))\n",
        "h = int(input(\"높이를 설정해주세요 \"))\n",
        "\n",
        "Result = (math.pi * (R*R)) * h\n",
        "R_R = round(Result, 3)\n",
        "\n",
        "print(R_R)"
      ],
      "metadata": {
        "colab": {
          "base_uri": "https://localhost:8080/"
        },
        "id": "BAHQUoxIrgLB",
        "outputId": "f244b113-c020-47c6-beee-cde8043d8753"
      },
      "execution_count": 11,
      "outputs": [
        {
          "output_type": "stream",
          "name": "stdout",
          "text": [
            "반지름을 설정해주세요 51\n",
            "높이를 설정해주세요 20\n",
            "163425.65\n"
          ]
        }
      ]
    },
    {
      "cell_type": "code",
      "source": [
        "#Quiz 5 - 2\n",
        "import math\n",
        "\n",
        "R = 5\n",
        "h = 10\n",
        "\n",
        "Result = (math.pi * (R*R)) * h\n",
        "R_R = round(Result, 3)\n",
        "\n",
        "print(R_R)"
      ],
      "metadata": {
        "colab": {
          "base_uri": "https://localhost:8080/"
        },
        "id": "pCLlpOZxrgQY",
        "outputId": "e76dce1f-d018-4fc8-ab5a-99558c06f29f"
      },
      "execution_count": 14,
      "outputs": [
        {
          "output_type": "stream",
          "name": "stdout",
          "text": [
            "785.398\n"
          ]
        }
      ]
    },
    {
      "cell_type": "code",
      "source": [
        "#Quiz 6-1\n",
        "\n",
        "import datetime\n",
        "\n",
        "x = datetime.datetime.now()\n",
        "\n",
        "print(x)"
      ],
      "metadata": {
        "colab": {
          "base_uri": "https://localhost:8080/"
        },
        "id": "gTyPkH5zrkt4",
        "outputId": "f6340763-f7ac-4edb-fa74-88af204a6542"
      },
      "execution_count": 21,
      "outputs": [
        {
          "output_type": "stream",
          "name": "stdout",
          "text": [
            "2024-04-04 06:17:35.171856\n"
          ]
        }
      ]
    },
    {
      "cell_type": "code",
      "source": [
        "#Quiz 6-2\n",
        "\n",
        "import datetime\n",
        "\n",
        "x = datetime.datetime.now()\n",
        "weekday_index = x.weekday()\n",
        "weekdays = [\"월\", \"화\", \"수\", \"목\", \"금\", \"토\", \"일\"]\n",
        "\n",
        "print(x.year, \"년\")\n",
        "print(x.month, \"월\")\n",
        "print(x.day, \"일\")\n",
        "print(weekdays[weekday_index], \"요일\")\n",
        "print(x.hour, \"시\")\n",
        "print(x.minute, \"분\")\n",
        "print(x.second, \"초\")"
      ],
      "metadata": {
        "colab": {
          "base_uri": "https://localhost:8080/"
        },
        "id": "-w3ivE6wrkyt",
        "outputId": "daf088cb-0f6e-405b-a63c-d3cf060c3390"
      },
      "execution_count": 20,
      "outputs": [
        {
          "output_type": "stream",
          "name": "stdout",
          "text": [
            "2024 년\n",
            "4 월\n",
            "4 일\n",
            "목 요일\n",
            "6 시\n",
            "17 분\n",
            "33 초\n"
          ]
        }
      ]
    },
    {
      "cell_type": "code",
      "source": [
        "#Quiz 7\n",
        "tall = (177, 145, 165, 187, 158, 160, 182, 174, 194, 180)\n",
        "\n",
        "for tall in tall:\n",
        "    if tall <= 170:\n",
        "        continue\n",
        "    print(tall, \"cm\")"
      ],
      "metadata": {
        "colab": {
          "base_uri": "https://localhost:8080/"
        },
        "id": "iCe61kY4rk3f",
        "outputId": "f9b2ed87-191c-4000-e918-2ea947a06280"
      },
      "execution_count": 24,
      "outputs": [
        {
          "output_type": "stream",
          "name": "stdout",
          "text": [
            "177 cm\n",
            "187 cm\n",
            "182 cm\n",
            "174 cm\n",
            "194 cm\n",
            "180 cm\n"
          ]
        }
      ]
    },
    {
      "cell_type": "code",
      "source": [
        "#quiz 1 함수처리\n",
        "def print_star_line():\n",
        "    a = '★'\n",
        "    for i in range(3):\n",
        "        print(a * 4)\n",
        "\n",
        "print_star_line()  # 함수 호출"
      ],
      "metadata": {
        "colab": {
          "base_uri": "https://localhost:8080/"
        },
        "id": "QrhaG04C0Tff",
        "outputId": "ac45d199-8dcd-4a52-d588-1067c599902e"
      },
      "execution_count": 25,
      "outputs": [
        {
          "output_type": "stream",
          "name": "stdout",
          "text": [
            "★★★★\n",
            "★★★★\n",
            "★★★★\n"
          ]
        }
      ]
    },
    {
      "cell_type": "code",
      "source": [
        "# Quiz 2 함수처리\n",
        "def print_star_line():\n",
        "    a = '★'\n",
        "    for i in range(3):\n",
        "        print(a * 4)\n",
        "\n",
        "print_star_line()  # 함수 호출"
      ],
      "metadata": {
        "colab": {
          "base_uri": "https://localhost:8080/"
        },
        "id": "sAPy-ZRQ0Th-",
        "outputId": "dad03d91-fc07-4f79-e9ce-382f904fe8bb"
      },
      "execution_count": 26,
      "outputs": [
        {
          "output_type": "stream",
          "name": "stdout",
          "text": [
            "★★★★\n",
            "★★★★\n",
            "★★★★\n"
          ]
        }
      ]
    },
    {
      "cell_type": "code",
      "source": [
        "# Quiz 3 함수처리\n",
        "def print_stars(vertical_repeats, horizontal_stars):\n",
        "    for _ in vertical_repeats:\n",
        "        print(horizontal_stars)\n",
        "\n",
        "horizontal_stars = '★★★'\n",
        "vertical_repeats = '★★★★'\n",
        "\n",
        "print_stars(vertical_repeats, horizontal_stars)  # 함수 호출"
      ],
      "metadata": {
        "colab": {
          "base_uri": "https://localhost:8080/"
        },
        "id": "PtQRL9S70Tko",
        "outputId": "e94fa1cf-e299-4c90-e315-e72173764f1d"
      },
      "execution_count": 29,
      "outputs": [
        {
          "output_type": "stream",
          "name": "stdout",
          "text": [
            "★★★\n",
            "★★★\n",
            "★★★\n",
            "★★★\n"
          ]
        }
      ]
    },
    {
      "cell_type": "code",
      "source": [
        "#Quiz 4 함수처리\n",
        "def print_stars(horizental_stars, repetitions):\n",
        "    for _ in range(repetitions):\n",
        "        print(horizental_stars)\n",
        "\n",
        "star = '*'\n",
        "horizental_stars = star * 3\n",
        "\n",
        "print_stars(horizental_stars, 4)  # 함수 호출"
      ],
      "metadata": {
        "colab": {
          "base_uri": "https://localhost:8080/"
        },
        "id": "LNO4pXsg0Tmf",
        "outputId": "745987ec-ec87-4956-e4ef-41630aba11dd"
      },
      "execution_count": 28,
      "outputs": [
        {
          "output_type": "stream",
          "name": "stdout",
          "text": [
            "***\n",
            "***\n",
            "***\n",
            "***\n"
          ]
        }
      ]
    },
    {
      "cell_type": "code",
      "source": [
        "#Quiz 5 - 1  함수처리\n",
        "import math\n",
        "\n",
        "def calculate_cylinder_volume(R, h):\n",
        "    result = (math.pi * (R * R)) * h\n",
        "    return round(result, 3)\n",
        "\n",
        "def main():\n",
        "    R = int(input(\"반지름을 설정해주세요: \"))\n",
        "    h = int(input(\"높이를 설정해주세요: \"))\n",
        "\n",
        "    result = calculate_cylinder_volume(R, h)\n",
        "    print(result)\n",
        "\n",
        "if __name__ == \"__main__\":\n",
        "    main()"
      ],
      "metadata": {
        "colab": {
          "base_uri": "https://localhost:8080/"
        },
        "id": "zIaDtvHO0Tox",
        "outputId": "ce4b0619-7ea6-4ba9-edfe-87f980b2be8f"
      },
      "execution_count": 30,
      "outputs": [
        {
          "output_type": "stream",
          "name": "stdout",
          "text": [
            "반지름을 설정해주세요: 50\n",
            "높이를 설정해주세요: 30\n",
            "235619.449\n"
          ]
        }
      ]
    },
    {
      "cell_type": "code",
      "source": [
        "#Quiz 5 - 2 함수처리\n",
        "import math\n",
        "\n",
        "def calculate_cylinder_volume(R, h):\n",
        "    result = (math.pi * (R * R)) * h\n",
        "    return round(result, 3)\n",
        "\n",
        "def main():\n",
        "    R = 5\n",
        "    h = 10\n",
        "\n",
        "    result = calculate_cylinder_volume(R, h)\n",
        "    print(result)\n",
        "\n",
        "if __name__ == \"__main__\":\n",
        "    main()"
      ],
      "metadata": {
        "colab": {
          "base_uri": "https://localhost:8080/"
        },
        "id": "n3i2T2dg0Tqn",
        "outputId": "9d1acfc6-2a89-455f-992d-05dce6fa049f"
      },
      "execution_count": 31,
      "outputs": [
        {
          "output_type": "stream",
          "name": "stdout",
          "text": [
            "785.398\n"
          ]
        }
      ]
    },
    {
      "cell_type": "code",
      "source": [
        "#Quiz 6-1 함수처리\n",
        "import datetime\n",
        "\n",
        "def print_current_time():\n",
        "    x = datetime.datetime.now()\n",
        "    print(x)\n",
        "\n",
        "print_current_time()  # 함수 호출"
      ],
      "metadata": {
        "colab": {
          "base_uri": "https://localhost:8080/"
        },
        "id": "sO4l3XCt0Tsv",
        "outputId": "44da4981-4f1e-4d92-b5f3-f021af44eea0"
      },
      "execution_count": 32,
      "outputs": [
        {
          "output_type": "stream",
          "name": "stdout",
          "text": [
            "2024-04-04 06:37:06.540544\n"
          ]
        }
      ]
    },
    {
      "cell_type": "code",
      "source": [
        "#Quiz 6-2 함수 처리\n",
        "import datetime\n",
        "\n",
        "def print_current_date_and_time():\n",
        "    x = datetime.datetime.now()\n",
        "    weekday_index = x.weekday()\n",
        "    weekdays = [\"월\", \"화\", \"수\", \"목\", \"금\", \"토\", \"일\"]\n",
        "\n",
        "    print(x.year, \"년\")\n",
        "    print(x.month, \"월\")\n",
        "    print(x.day, \"일\")\n",
        "    print(weekdays[weekday_index], \"요일\")\n",
        "    print(x.hour, \"시\")\n",
        "    print(x.minute, \"분\")\n",
        "    print(x.second, \"초\")\n",
        "\n",
        "print_current_date_and_time()  # 함수 호출"
      ],
      "metadata": {
        "colab": {
          "base_uri": "https://localhost:8080/"
        },
        "id": "Thvz_Lqs0TyZ",
        "outputId": "330d4ae3-1307-4199-8e46-68d751e17aae"
      },
      "execution_count": 33,
      "outputs": [
        {
          "output_type": "stream",
          "name": "stdout",
          "text": [
            "2024 년\n",
            "4 월\n",
            "4 일\n",
            "목 요일\n",
            "6 시\n",
            "37 분\n",
            "6 초\n"
          ]
        }
      ]
    },
    {
      "cell_type": "code",
      "source": [
        "#quiz7 함수처리\n",
        "def print_taller_than_170(heights):\n",
        "    for height in heights:\n",
        "        if height <= 170:\n",
        "            continue\n",
        "        print(\"키가 170보다 큰 학생:\", height)\n",
        "\n",
        "heights = [164, 172, 165, 175, 160, 180, 168, 174, 177, 163]\n",
        "print_taller_than_170(heights)  # 함수 호출"
      ],
      "metadata": {
        "colab": {
          "base_uri": "https://localhost:8080/"
        },
        "id": "H2TcpKny0np4",
        "outputId": "9fdac1a3-c6e3-4b45-8ff4-ad2132871944"
      },
      "execution_count": 35,
      "outputs": [
        {
          "output_type": "stream",
          "name": "stdout",
          "text": [
            "키가 170보다 큰 학생: 172\n",
            "키가 170보다 큰 학생: 175\n",
            "키가 170보다 큰 학생: 180\n",
            "키가 170보다 큰 학생: 174\n",
            "키가 170보다 큰 학생: 177\n"
          ]
        }
      ]
    }
  ]
}